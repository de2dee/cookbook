{
 "cells": [
  {
   "cell_type": "code",
   "execution_count": 2,
   "metadata": {},
   "outputs": [
    {
     "name": "stdout",
     "output_type": "stream",
     "text": [
      "1,python\n",
      "--------------------\n",
      "1,python\n",
      "2,python\n",
      "--------------------\n",
      "1,python\n",
      "2,python\n",
      "3,python\n",
      "--------------------\n",
      "1,python\n",
      "2,python\n",
      "3,python\n",
      "4,python\n",
      "--------------------\n",
      "1,python\n",
      "2,python\n",
      "3,python\n",
      "4,python\n",
      "5,python\n",
      "--------------------\n",
      "1,python\n",
      "2,python\n",
      "3,python\n",
      "4,python\n",
      "5,python\n",
      "6,python\n",
      "--------------------\n",
      "2,python\n",
      "3,python\n",
      "4,python\n",
      "5,python\n",
      "6,python\n",
      "7,python\n",
      "--------------------\n",
      "3,python\n",
      "4,python\n",
      "5,python\n",
      "6,python\n",
      "7,python\n",
      "8,python\n",
      "--------------------\n",
      "4,python\n",
      "5,python\n",
      "6,python\n",
      "7,python\n",
      "8,python\n",
      "9,python\n",
      "--------------------\n",
      "5,python\n",
      "6,python\n",
      "7,python\n",
      "8,python\n",
      "9,python\n",
      "10,python--------------------\n"
     ]
    }
   ],
   "source": [
    "# 保存有限的历史记录，使用collections.deque\n",
    "from collections import deque\n",
    "def search(lines, pattern, history=5):\n",
    "    previous_lines = deque(maxlen=history)\n",
    "    for line in lines:\n",
    "        if pattern in line:\n",
    "            yield line, previous_lines\n",
    "            previous_lines.append(line)\n",
    "                \n",
    "# example use on a file\n",
    "if __name__ == '__main__':\n",
    "    with open('1_3_file.txt') as f:\n",
    "        for line, prevlines in search(f, 'python', 5):\n",
    "            for pline in prevlines:\n",
    "                print(pline, end='')\n",
    "            print(line, end='')\n",
    "            print('-'*20)"
   ]
  },
  {
   "cell_type": "code",
   "execution_count": null,
   "metadata": {
    "collapsed": true
   },
   "outputs": [],
   "source": []
  }
 ],
 "metadata": {
  "kernelspec": {
   "display_name": "Python 3",
   "language": "python",
   "name": "python3"
  },
  "language_info": {
   "codemirror_mode": {
    "name": "ipython",
    "version": 3
   },
   "file_extension": ".py",
   "mimetype": "text/x-python",
   "name": "python",
   "nbconvert_exporter": "python",
   "pygments_lexer": "ipython3",
   "version": "3.6.2"
  }
 },
 "nbformat": 4,
 "nbformat_minor": 2
}
