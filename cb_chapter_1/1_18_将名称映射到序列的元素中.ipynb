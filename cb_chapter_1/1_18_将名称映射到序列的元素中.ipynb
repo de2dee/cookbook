{
 "cells": [
  {
   "cell_type": "code",
   "execution_count": 4,
   "metadata": {},
   "outputs": [
    {
     "data": {
      "text/plain": [
       "Subscriber(addr='jonesy@example.com', joined='2012-10-19')"
      ]
     },
     "execution_count": 4,
     "metadata": {},
     "output_type": "execute_result"
    }
   ],
   "source": [
    "# 1_18_将名称映射到序列的元素中\n",
    "# 通过名称来访问元素，以此减少结构中对位置的依赖性\n",
    "# 使用colloctions.namedtuple() (命名元组)只增加了极小的开销就提供了这功能\n",
    "from collections import namedtuple\n",
    "# collections.namedtuple() 是一个工厂方法，返回标准元组的子类\n",
    "Subscriber = namedtuple('Subscriber', ['addr', 'joined'])\n",
    "sub = Subscriber('jonesy@example.com', '2012-10-19')\n",
    "sub"
   ]
  },
  {
   "cell_type": "code",
   "execution_count": 5,
   "metadata": {},
   "outputs": [
    {
     "data": {
      "text/plain": [
       "'jonesy@example.com'"
      ]
     },
     "execution_count": 5,
     "metadata": {},
     "output_type": "execute_result"
    }
   ],
   "source": [
    "sub.addr"
   ]
  },
  {
   "cell_type": "code",
   "execution_count": 6,
   "metadata": {},
   "outputs": [
    {
     "data": {
      "text/plain": [
       "'2012-10-19'"
      ]
     },
     "execution_count": 6,
     "metadata": {},
     "output_type": "execute_result"
    }
   ],
   "source": [
    "sub.joined"
   ]
  },
  {
   "cell_type": "code",
   "execution_count": 8,
   "metadata": {},
   "outputs": [
    {
     "data": {
      "text/plain": [
       "2"
      ]
     },
     "execution_count": 8,
     "metadata": {},
     "output_type": "execute_result"
    }
   ],
   "source": [
    "# 支持所有普通元组支持的操作，如索引和分解\n",
    "len(sub)"
   ]
  },
  {
   "cell_type": "code",
   "execution_count": 9,
   "metadata": {
    "collapsed": true
   },
   "outputs": [],
   "source": [
    "addr, joined = sub"
   ]
  },
  {
   "cell_type": "code",
   "execution_count": 10,
   "metadata": {},
   "outputs": [
    {
     "data": {
      "text/plain": [
       "'jonesy@example.com'"
      ]
     },
     "execution_count": 10,
     "metadata": {},
     "output_type": "execute_result"
    }
   ],
   "source": [
    "addr"
   ]
  },
  {
   "cell_type": "code",
   "execution_count": 11,
   "metadata": {},
   "outputs": [
    {
     "data": {
      "text/plain": [
       "'2012-10-19'"
      ]
     },
     "execution_count": 11,
     "metadata": {},
     "output_type": "execute_result"
    }
   ],
   "source": [
    "joined"
   ]
  },
  {
   "cell_type": "code",
   "execution_count": 12,
   "metadata": {
    "collapsed": true
   },
   "outputs": [],
   "source": [
    "# 命名元组的主要作用在于将代码同它所控制的元素位置间解耦\n",
    "# 通过位置来引用元素常常使得代码的表达力不够强，而且也依赖于记录的具体结构"
   ]
  },
  {
   "cell_type": "code",
   "execution_count": 13,
   "metadata": {
    "collapsed": true
   },
   "outputs": [],
   "source": [
    "# 普通元组\n",
    "def compute_cost(records):\n",
    "    total = 0.0\n",
    "    for rec in records:\n",
    "        total += rec[1] * rec[2]\n",
    "    return total"
   ]
  },
  {
   "cell_type": "code",
   "execution_count": 14,
   "metadata": {
    "collapsed": true
   },
   "outputs": [],
   "source": [
    "# 命名元组\n",
    "from collections import namedtuple\n",
    "Stock = namedtuple('Stock', ['name', 'shares', 'price'])\n",
    "def compute_cost2(records):\n",
    "    total = 0.0\n",
    "    for rec in records:\n",
    "        s = Stock(*rec)\n",
    "        total += s.shares *s.price\n",
    "    return total"
   ]
  },
  {
   "cell_type": "code",
   "execution_count": 15,
   "metadata": {},
   "outputs": [
    {
     "data": {
      "text/plain": [
       "Stock(name='ACME', shares=100, price=123.45)"
      ]
     },
     "execution_count": 15,
     "metadata": {},
     "output_type": "execute_result"
    }
   ],
   "source": [
    "# namedtuple 的一种可能用法是作为字典的替代，后者需要更多的空间来存储\n",
    "# 因此如果要构建涉及字典的大型数据结构，使用namedtuple 会更加高效\n",
    "# 注意：namedtuple 是不可变的(immutable)，而字典是可变的\n",
    "s = Stock('ACME', 100, 123.45)\n",
    "s"
   ]
  },
  {
   "cell_type": "code",
   "execution_count": 18,
   "metadata": {},
   "outputs": [
    {
     "ename": "AttributeError",
     "evalue": "can't set attribute",
     "output_type": "error",
     "traceback": [
      "\u001b[1;31m---------------------------------------------------------------------------\u001b[0m",
      "\u001b[1;31mAttributeError\u001b[0m                            Traceback (most recent call last)",
      "\u001b[1;32m<ipython-input-18-ab8624859605>\u001b[0m in \u001b[0;36m<module>\u001b[1;34m()\u001b[0m\n\u001b[0;32m      1\u001b[0m \u001b[1;31m# 试图直接更改 namedtuple 的值会出错\u001b[0m\u001b[1;33m\u001b[0m\u001b[1;33m\u001b[0m\u001b[0m\n\u001b[1;32m----> 2\u001b[1;33m \u001b[0ms\u001b[0m\u001b[1;33m.\u001b[0m\u001b[0mshares\u001b[0m \u001b[1;33m=\u001b[0m \u001b[1;36m75\u001b[0m\u001b[1;33m\u001b[0m\u001b[0m\n\u001b[0m",
      "\u001b[1;31mAttributeError\u001b[0m: can't set attribute"
     ]
    }
   ],
   "source": [
    "# 试图直接更改 namedtuple 的值会出错\n",
    "s.shares = 75"
   ]
  },
  {
   "cell_type": "code",
   "execution_count": 19,
   "metadata": {},
   "outputs": [
    {
     "data": {
      "text/plain": [
       "Stock(name='ACME', shares=75, price=123.45)"
      ]
     },
     "execution_count": 19,
     "metadata": {},
     "output_type": "execute_result"
    }
   ],
   "source": [
    "# 可以通过使用 namedtuple实例的 _replace() 方法来实现，该方法会创建一个全新的命名元组，并对相应的值做替换\n",
    "s = s._replace(shares=75)\n",
    "s"
   ]
  },
  {
   "cell_type": "code",
   "execution_count": 21,
   "metadata": {},
   "outputs": [],
   "source": [
    "# _replace() 方法有个微妙的用途，那就是它可以作为一种简便的方法填充具有可选或者缺失字段的命名元组。\n",
    "# 要做到这点，首先创建一个包含默认值的“原型”元组，然后使用 _replace() 方法创建一个新的实例，把相应的值替换掉\n",
    "from collections import namedtuple\n",
    "Stock = namedtuple('Stock', ['name', 'shares', 'price', 'date', 'time'])\n",
    "# Create a prototype instance\n",
    "stock_prototype = Stock('', 0, 0.0, None, None)\n",
    "# Function to convert a dictionary to a Stock\n",
    "def dict_to_stock(s):\n",
    "    return stock_prototype._replace(**s)"
   ]
  },
  {
   "cell_type": "code",
   "execution_count": 22,
   "metadata": {},
   "outputs": [
    {
     "data": {
      "text/plain": [
       "Stock(name='ACME', shares=100, price=123.45, date=None, time=None)"
      ]
     },
     "execution_count": 22,
     "metadata": {},
     "output_type": "execute_result"
    }
   ],
   "source": [
    "# 使用演示\n",
    "a = {'name':'ACME', 'shares':100, 'price':123.45}\n",
    "dict_to_stock(a)"
   ]
  },
  {
   "cell_type": "code",
   "execution_count": 23,
   "metadata": {},
   "outputs": [
    {
     "data": {
      "text/plain": [
       "Stock(name='ACME', shares=100, price=123.45, date='12/17/2012', time=None)"
      ]
     },
     "execution_count": 23,
     "metadata": {},
     "output_type": "execute_result"
    }
   ],
   "source": [
    "b = {'name':'ACME', 'shares':100, 'price':123.45, 'date':'12/17/2012'}\n",
    "dict_to_stock(b)"
   ]
  },
  {
   "cell_type": "code",
   "execution_count": 24,
   "metadata": {
    "collapsed": true
   },
   "outputs": [],
   "source": [
    "# 最后，若数据结构对应的实例属性后续需要修改，考虑定义一个使用__slots__属性的类"
   ]
  },
  {
   "cell_type": "code",
   "execution_count": null,
   "metadata": {
    "collapsed": true
   },
   "outputs": [],
   "source": []
  }
 ],
 "metadata": {
  "kernelspec": {
   "display_name": "Python 3",
   "language": "python",
   "name": "python3"
  },
  "language_info": {
   "codemirror_mode": {
    "name": "ipython",
    "version": 3
   },
   "file_extension": ".py",
   "mimetype": "text/x-python",
   "name": "python",
   "nbconvert_exporter": "python",
   "pygments_lexer": "ipython3",
   "version": "3.6.2"
  }
 },
 "nbformat": 4,
 "nbformat_minor": 2
}
