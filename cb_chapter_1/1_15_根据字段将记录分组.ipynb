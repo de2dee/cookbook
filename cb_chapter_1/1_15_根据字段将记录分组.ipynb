{
 "cells": [
  {
   "cell_type": "code",
   "execution_count": 4,
   "metadata": {
    "collapsed": true
   },
   "outputs": [],
   "source": [
    "# 1_15_根据字段将记录分组\n",
    "# 使用 itertools.groupby()\n",
    "rows = [\n",
    "    {'address':'5412 N CLARK', 'date':'07/06/2012'},\n",
    "    {'address':'5416 N CLARK', 'date':'07/03/2012'},\n",
    "    {'address':'5415 N CLARK', 'date':'07/03/2012'},\n",
    "    {'address':'5414 N CLARK', 'date':'07/01/2012'},\n",
    "    {'address':'5413 N CLARK', 'date':'07/01/2012'}\n",
    "]"
   ]
  },
  {
   "cell_type": "code",
   "execution_count": 5,
   "metadata": {},
   "outputs": [
    {
     "name": "stdout",
     "output_type": "stream",
     "text": [
      "07/01/2012\n",
      "  {'address': '5414 N CLARK', 'date': '07/01/2012'}\n",
      "  {'address': '5413 N CLARK', 'date': '07/01/2012'}\n",
      "07/03/2012\n",
      "  {'address': '5416 N CLARK', 'date': '07/03/2012'}\n",
      "  {'address': '5415 N CLARK', 'date': '07/03/2012'}\n",
      "07/06/2012\n",
      "  {'address': '5412 N CLARK', 'date': '07/06/2012'}\n"
     ]
    }
   ],
   "source": [
    "# 根据date 以分组的方式迭代数据\n",
    "from operator import itemgetter\n",
    "from itertools import groupby\n",
    "\n",
    "# sort by the desired field first\n",
    "rows.sort(key=itemgetter('date'))\n",
    "\n",
    "for date, items in groupby(rows, key=itemgetter('date')):\n",
    "    print(date)\n",
    "    for i in items:\n",
    "        print(' ', i)"
   ]
  },
  {
   "cell_type": "code",
   "execution_count": 6,
   "metadata": {
    "collapsed": true
   },
   "outputs": [],
   "source": [
    "# 函数 groupby()  通过扫描序列找出拥有相同值(或者由参数key指定的函数所返回的值)的序列想，并将他们分组\n",
    "# 会创建一个迭代器，每次迭代都返回一个value和一个子迭代器(sub_iterator)\n",
    "# 但是要先根据感兴趣的字段对数据进行排序，因为groupby() 只能检查连续的项"
   ]
  },
  {
   "cell_type": "code",
   "execution_count": 8,
   "metadata": {
    "collapsed": true
   },
   "outputs": [],
   "source": [
    "# 如果只是简单的根据日期将数据分组，李勇 defaultdict() 创建一键多值的字典(multidict)\n",
    "from collections import defaultdict\n",
    "rows_by_date = defaultdict(list)\n",
    "for row in rows:\n",
    "    rows_by_date[row['date']].append(row)"
   ]
  },
  {
   "cell_type": "code",
   "execution_count": 9,
   "metadata": {},
   "outputs": [
    {
     "name": "stdout",
     "output_type": "stream",
     "text": [
      "{'address': '5414 N CLARK', 'date': '07/01/2012'}\n",
      "{'address': '5413 N CLARK', 'date': '07/01/2012'}\n"
     ]
    }
   ],
   "source": [
    "for r in rows_by_date['07/01/2012']:\n",
    "    print(r)"
   ]
  },
  {
   "cell_type": "code",
   "execution_count": null,
   "metadata": {
    "collapsed": true
   },
   "outputs": [],
   "source": [
    "# 若不考虑内存，defaultdict 比先排序后groupby()迭代速度快"
   ]
  }
 ],
 "metadata": {
  "kernelspec": {
   "display_name": "Python 3",
   "language": "python",
   "name": "python3"
  },
  "language_info": {
   "codemirror_mode": {
    "name": "ipython",
    "version": 3
   },
   "file_extension": ".py",
   "mimetype": "text/x-python",
   "name": "python",
   "nbconvert_exporter": "python",
   "pygments_lexer": "ipython3",
   "version": "3.6.2"
  }
 },
 "nbformat": 4,
 "nbformat_minor": 2
}
