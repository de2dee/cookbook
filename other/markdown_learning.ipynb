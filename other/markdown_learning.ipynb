{
 "cells": [
  {
   "cell_type": "markdown",
   "metadata": {},
   "source": [
    "# 1号标题\n",
    "\n",
    "1号标题第二种写法\n",
    "======\n",
    "\n",
    "2号标题第2种写法\n",
    "-------\n",
    "\n",
    "## 2号标题\n",
    "> 正文1\n",
    ">> 正文2"
   ]
  },
  {
   "cell_type": "markdown",
   "metadata": {},
   "source": [
    "## 目录写法\n",
    "``` shell\n",
    "写法：\n",
    "\n",
    "[标题名](#标题名)\n",
    "```\n",
    "如：\n",
    "\n",
    "[强调语句](#强调语句)\n",
    "\n",
    "[列表](#列表)\n",
    "\n",
    "[公式](#公式)"
   ]
  },
  {
   "cell_type": "markdown",
   "metadata": {},
   "source": [
    "### 强调语句\n",
    "斜体前后加星号*像这样*\n",
    "\n",
    "加粗前后加双下划线__like this__"
   ]
  },
  {
   "cell_type": "markdown",
   "metadata": {},
   "source": [
    "### 列表\n",
    "无序号列表用 * ， + ， - 标注到行头\n",
    "* 第一列\n",
    "+ 第二列\n",
    "- 第三列\n",
    "\n",
    "有序号列表用数字后面加点做标注\n",
    "1. 第一列\n",
    "2. 第二列\n",
    "3. 第三列"
   ]
  },
  {
   "cell_type": "markdown",
   "metadata": {},
   "source": [
    "### 链接\n",
    "#### 行内\n",
    "This is an [example link](https://www.baidu.com)\n",
    "\n",
    "This is [the second example link](http://www.zhihu.com/ \"标题-知乎\")\n",
    "添加标题，鼠标指向时带有解释\n",
    "\n",
    "#### 参考\n",
    "\n",
    "参考来源[豆瓣][1], 或者[新浪][2]\n",
    "[1]:https://www.douban.com/ \n",
    "[2]:https://www.sina.com\n",
    "``` c\n",
    "写法如下\n",
    "\n",
    "参考来源[豆瓣][1], 或者[新浪][2]\n",
    "[1]:https://www.douban.com/ \n",
    "[2]:https://www.sina.com\n",
    "\n",
    "```"
   ]
  },
  {
   "cell_type": "markdown",
   "metadata": {},
   "source": [
    "### 图片\n",
    "跟链接类似，前面加感叹号\n",
    "\n",
    "这是一张 ![示例图](https://timgsa.baidu.com/timg?image&quality=80&size=b9999_10000&sec=1516165577096&di=09b75d93f467e9402615f31c183abab2&imgtype=0&src=http%3A%2F%2Fimgsrc.baidu.com%2Fimage%2Fc0%253Dshijue1%252C0%252C0%252C294%252C40%2Fsign%3De581890e9716fdfacc61ceaddce6e621%2Fae51f3deb48f8c54d680b70a30292df5e0fe7f47.jpg)\n",
    "\n",
    "写法： `![title](jpg_link)`"
   ]
  },
  {
   "cell_type": "markdown",
   "metadata": {},
   "source": [
    "### 代码\n",
    "用反引号在行内标记， 如 `this is a block of code`\n",
    "中间可以添加一些 & ，< , > 会被认为时html代码，如\n",
    "`\n",
    "    <h5>标题5</h5>`"
   ]
  },
  {
   "cell_type": "markdown",
   "metadata": {},
   "source": [
    "<https://www.baidu.com>\n",
    "\n",
    "邮箱地址: <d99dee@163.com>"
   ]
  },
  {
   "cell_type": "markdown",
   "metadata": {},
   "source": [
    "### 公式\n",
    "\n",
    "[参考方法三](http://blog.csdn.net/xiahouzuoxin/article/details/26478179 \"Markdown中插入数学公式的方法\")\n",
    "\n",
    "再使用Tex写公式。`$$公式$$`表示行间公式，本来Tex中使用`\\\\\\(公式\\\\\\)`表示行内公式，但因为Markdown中\\是转义字符，所以在Markdown中输入行内公式使用`\\\\\\(公式\\\\\\)`，如下代码：\n",
    "``` shell\n",
    "$$x=\\frac{-b\\pm\\sqrt{b^2-4ac}}{2a}$$\n",
    "\\\\\\(x=\\frac{-b\\pm\\sqrt{b^2-4ac}}{2a}\\\\\\)\n",
    "```\n",
    "输出结果，\n",
    "行间公式：\n",
    "$$x=\\frac{-b\\pm\\sqrt{b^2-4ac}}{2a}$$\n",
    "\n",
    "行内公式：\n",
    "\\\\(x=\\frac{-b\\pm\\sqrt{b^2-4ac}}{2a}\\\\)\n",
    "\n",
    "\n",
    "[基本写法参考](http://blog.csdn.net/yzr1183739890/article/details/64130912)\n",
    "\n",
    "[Latex写法参考](http://www.mohu.org/info/symbols/symbols.htm)"
   ]
  },
  {
   "cell_type": "code",
   "execution_count": null,
   "metadata": {
    "collapsed": true
   },
   "outputs": [],
   "source": []
  }
 ],
 "metadata": {
  "kernelspec": {
   "display_name": "Python 3",
   "language": "python",
   "name": "python3"
  },
  "language_info": {
   "codemirror_mode": {
    "name": "ipython",
    "version": 3
   },
   "file_extension": ".py",
   "mimetype": "text/x-python",
   "name": "python",
   "nbconvert_exporter": "python",
   "pygments_lexer": "ipython3",
   "version": "3.6.2"
  }
 },
 "nbformat": 4,
 "nbformat_minor": 2
}
