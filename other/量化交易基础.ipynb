{
 "cells": [
  {
   "cell_type": "markdown",
   "metadata": {},
   "source": [
    "# 量化交易基础\n",
    "\n",
    "[1. 基本术语](#1.-基本术语)\n",
    "\n",
    "[2. 策略术语](#2.-策略术语)\n",
    "\n",
    "[2.策略评测](#2.-策略评测)\n"
   ]
  },
  {
   "cell_type": "markdown",
   "metadata": {},
   "source": [
    "## 1. 基本术语\n",
    "\n",
    "### IF（Index Future 股指期货）\n",
    "\n",
    "\n",
    "### 回测\n",
    "回测是量化交易策略研究中的关键，是指给定一段时间的历史数据（如此处是20140101到20160601的每日数据），计算机按照所编写的策略进行模拟仿真交易，以测试策略效果好坏。"
   ]
  },
  {
   "cell_type": "markdown",
   "metadata": {},
   "source": [
    "\n",
    "## 2. 策略术语\n",
    "\n",
    "### 滑点\n",
    "成交价与起始报价不同的称为滑点\n",
    "如买入报价13.50\n",
    "1. 无滑点：成交价同报价，为13.50\n",
    "2. 正滑点：成交价更优（买入时更低，卖出时更高），如13.49买入\n",
    "3. 负滑点：成交价更劣（买入时更高，卖出时更低），如13.51买入\n",
    "\n",
    "### 基准收益 & 基准年化收益\n",
    "#### 基准收益\n",
    "[基准收益率](http://wiki.mbalib.com/wiki/%E5%9F%BA%E5%87%86%E6%94%B6%E7%9B%8A%E7%8E%87)也称基准折现率是企业或行业或投资者以动态的观点所确定的、可接受的投资项目最低标准的收益水平。是投资决策者对项目资金时间价值的估值。基准收益率的确定既受到客观条件的限制，又有投资者的主观愿望。    基准收益率表明投资决策者对项目资金时间价值的估价，是投资资金应当获得的最低盈利率水平，是评价和判断投资方案在经济上是否可行的依据，是一个重要的经济参数。 \n",
    "    \n",
    "    如果做股票市场,基准收益就是大盘的收益。当然也可以只做深市,那么基准收益就是深指。\n",
    "$$Benchmark\\ Returns = (M_{end}−M_{start})/M_{start}∗100%$$\n",
    "\n",
    "$$M_{end}=基准最终价值$$\n",
    "\n",
    "$$M_{start}=基准开始价值$$\n",
    "\n",
    "#### 基准年化收益\n",
    "$$Benchmark\\ Annualiz\\ Returns = R_m = ((1+M)^{\\frac{250}n})-1)∗100%$$\n",
    "\n",
    "$$M=基准收益$$\n",
    "\n",
    "$$n=策略执行天数$$\n",
    "\n",
    "### 策略收益 & 策略年化收益\n",
    "\n",
    "$$Total\\ Returns=(P_{end}−P_{start})/P_{start}∗100%$$\n",
    "\n",
    "$$P_{end}=策略最终股票和现金的总价值$$\n",
    "\n",
    "$$P_{start}=策略开始股票和现金的总价值$$\n",
    "\n",
    "### Alpha - 非系统性风险\n",
    "简单理解：与市场（基准）不相关的收益就是Alpha收益。Alpha是投资者获得与市场波动无关的回报。\n",
    "\n",
    "### Beta - 系统性风险\n",
    "简单理解：与市场（基准）相关的收益就是Beta收益。反映了策略对大盘变化的敏感性。\n",
    "\n",
    "### Sharpe - [夏普比率](http://wiki.mbalib.com/wiki/%E5%A4%8F%E6%99%AE%E6%AF%94%E7%8E%87)\n",
    "表示每承受一单位总风险，会产生多少的超额报酬，可以同时对策略的收益与风险进行综合考虑。\n",
    "$$Sharpe\\ Rate = \\frac{R_p-R_f}{\\sigma_p}$$\n",
    "\n",
    "### Sortino - [索提诺比率]()\n",
    "表示每承担一单位的下行风险，将会获得多少超额回报。 \n",
    "TODO\n",
    "### Information Ratio（信息比率）\n",
    "\n",
    "### Algorithm Volatility（策略波动率）\n",
    "\n",
    "### Benchmark Volatility（基准波动率）\n",
    "\n",
    "### Max Drawdown（最大回撤）\n",
    "\n",
    "### Downside Risk（下行波动率）\n",
    "\n",
    "### 胜率(%)\n",
    "\n",
    "### 日胜率(%)\n",
    "\n",
    "### 盈亏比\n",
    "\n",
    "\n",
    "\n",
    "参考聚宽的文档-[风险指标][1]\n",
    "\n",
    "[1]:https://www.joinquant.com/api#%E9%A3%8E%E9%99%A9%E6%8C%87%E6%A0%87\n",
    "\n",
    "-------\n",
    "\n"
   ]
  },
  {
   "cell_type": "markdown",
   "metadata": {},
   "source": [
    "## 2. 策略评测\n",
    "经过回测后有一定的指标返回，根据这些指标进行评定该策略的优劣与可行性\n",
    "### 初级评测\n",
    "1. 盈利能力：策略收益和年化收益高\n",
    "2. 盈利稳定性：最大回撤低。最大回撤是指最大亏损幅度，50%则意味着历史上看最大亏损率为50%。\n",
    "3. 回测可靠性：交易次数要多。交易次数越多意味着经历了越多次的检验，回测的结果也越可靠。\n",
    "\n",
    "参考[风险指标说明](https://www.joinquant.com/api#%E9%A3%8E%E9%99%A9%E6%8C%87%E6%A0%87)\n"
   ]
  },
  {
   "cell_type": "code",
   "execution_count": null,
   "metadata": {},
   "outputs": [],
   "source": []
  }
 ],
 "metadata": {
  "kernelspec": {
   "display_name": "Python 2",
   "language": "python",
   "name": "python2"
  },
  "language_info": {
   "codemirror_mode": {
    "name": "ipython",
    "version": 2
   },
   "file_extension": ".py",
   "mimetype": "text/x-python",
   "name": "python",
   "nbconvert_exporter": "python",
   "pygments_lexer": "ipython2",
   "version": "2.7.14"
  }
 },
 "nbformat": 4,
 "nbformat_minor": 2
}
