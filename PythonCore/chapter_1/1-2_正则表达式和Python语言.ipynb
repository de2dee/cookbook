{
 "cells": [
  {
   "cell_type": "markdown",
   "metadata": {},
   "source": [
    "# 第一章 正则表达式\n",
    "\n",
    "## 1.2 正则表达式和Python语言\n",
    "\n",
    "### 1.2.1 re模块：核心函数和方法\n",
    "\n",
    "1. `compile(pattern, flags)` ：使用任何可选的标记来编译正则表达式的模式，然后返回一个正则表达式对象\n",
    "2. `math(pattern, string, flags=0)` ：尝试使用带有可选的标记的正则表达式的模式来匹配字符串。如果匹配成功，就返回匹配对象；如果失败就返回None\n",
    "3. `search(pattern, string, flags=0)` ：使用可选标记搜索字符串中第一次出现的正则表达式模式。如果匹配成功，则返回匹配对象；如果失败就返回None\n",
    "4. `findall(pattern, string[,flags])` ：查找字符串中所有（非重复）出现的正则表达式模式，并返回一个匹配列表\n",
    "5. `finditer(pattern, string[,flags])` ：与`findall()`函数相同，但返回的不是一个列表，而是一个迭代器。对于每一次匹配，迭代器都返回一个匹配对象\n",
    "6. `split(pattern, string, max=0)` ：根据正则表达式的模式分隔符，split函数将字符串分割为列表，然后返回成功匹配的列表，分隔最多操作max次（默认分隔所有匹配成功的位置）\n",
    "7. `sub(pattern, string, count=0)` ：使用`repl`替换所有正则表达式的模式在字符串中出现的位置，除非定义`count`，否则就将替换所有出现的位置（另见`subn()`函数，该函数返回替换操作的数目）\n",
    "8. `purge()` ：清除隐式编译的正则表达式模式\n",
    "9. `group(num=0)` ：返回整个匹配对象，或者编号为`num`的特定子组\n",
    "10. `gourps(default=None)` ：返回一个包含所有匹配子组的元组（如果没有匹配成功，则返回一个空元组）\n",
    "11. `gourpdict(default=None)` ：返回一个包含所有匹配的命名子组的字典，所有的子组名称称作为字典的键（如果没有匹配成功，则返回一个空字典）\n",
    "12. `re.I`、`re.IGNORECASE` ：不区分大小写的匹配\n",
    "13. `re.L`、`re.LOCALE` ：根据所使用的本地语言环境通过\\w, \\W, \\b, \\B, \\s, \\S实现匹配\n",
    "14. `re.M`、`re.MULTILINE`：`^` 和 `$` 分别匹配字符串中的起始和结尾，而不是严格匹配整个字符串本身的起始和结尾\n",
    "15. `re.S`、`re.DOTALL`： `.` 点号通常匹配除了`\\n`（换行符）之外的所有单个字符：该标记表示`.`能够匹配全部字符\n",
    "16. `re.X`、`re.VERBOSE`： 通过反斜线转义，否则所有空格加上#（以及在该行中所有后续文字）都被忽略，除非在一个字符类中或者允许注释并且提高可读性。"
   ]
  },
  {
   "cell_type": "markdown",
   "metadata": {},
   "source": [
    "### 1.2.2 使用`compile()`函数编译正则表达式\n"
   ]
  },
  {
   "cell_type": "code",
   "execution_count": null,
   "metadata": {},
   "outputs": [],
   "source": []
  }
 ],
 "metadata": {
  "kernelspec": {
   "display_name": "Python 3",
   "language": "python",
   "name": "python3"
  },
  "language_info": {
   "codemirror_mode": {
    "name": "ipython",
    "version": 3
   },
   "file_extension": ".py",
   "mimetype": "text/x-python",
   "name": "python",
   "nbconvert_exporter": "python",
   "pygments_lexer": "ipython3",
   "version": "3.6.2"
  }
 },
 "nbformat": 4,
 "nbformat_minor": 2
}
