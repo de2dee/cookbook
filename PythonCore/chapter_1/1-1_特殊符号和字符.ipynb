{
 "cells": [
  {
   "cell_type": "markdown",
   "metadata": {},
   "source": [
    "# 第一章 正则表达式\n",
    "\n",
    "## 1.1 特殊符号和字符\n",
    "\n",
    "### 1.1.1 符号\n",
    "1. `literal`：文本字符串的字面值literal\n",
    "2. `re1|re2`：正则表达式re1或者re2\n",
    "3. `.`:任何字符（除了`\\n`以外）\n",
    "4. `^`:字符串起始部分\n",
    "5. `*`：0次或者多次前面出现的正则表达式\n",
    "6. `+`：1次或者多次前面出现的正则表达式\n",
    "7. `?`：0次或者1次前面出现的正则表达式\n",
    "8. `{N}`：N次前面出现的正则表达式\n",
    "9. `{M,N}`：M~N次前面出现的正则表达式\n",
    "11. `[...]`：来自字符集的任意单一字符\n",
    "12. `[...x-y...]`：x~y范围中的任意单一字符\n",
    "13. `[^...]`：不匹配次字符集中出现的任何一个字符，包括某一范围的字符（如果再次字符集中出现）\n",
    "14. `(*|+|?|{})?`：用于匹配上面频繁出现/重复出现符号的费贪婪版本（* 、+ 、? 、{}）\n",
    "15. `(...)`：匹配封闭的正则表达式，然后另存为子组\n",
    "\n",
    "### 1.1.2 特殊字符\n",
    "1. `\\d`：任何十进制数字，与`[0-9]`一致（`\\D`相反）\n",
    "2. `\\w`：任务字母数字字符，与`[A-Za-z0-9_]`相同（`\\W`相反）\n",
    "3. `\\s`：任何空格字符，与`[\\n\\t\\r\\v\\f]`相同（`\\S`相反）\n",
    "4. `\\b`：任何单次边界（`\\B`相反）\n",
    "5. `\\N`：已保存的子组N（参见上面的`(...)`）\n",
    "6. `\\c`：逐字匹配任何特殊字符c（即，仅按照字面意义匹配，不匹配特殊含义）\n",
    "7. `\\A(\\Z)`：匹配字符换的起始（结束）（另见上面介绍的`^`和`$`）\n"
   ]
  },
  {
   "cell_type": "markdown",
   "metadata": {},
   "source": [
    "### 1.1.3 扩展表示法\n",
    "1. `(?iLmsux)`：在正则表达式中嵌入一个或者多个特殊“标记”参数（或者通过函数/方法）\n",
    "2. `(?:...)`：表示一个匹配不用保存的分组\n",
    "3. `(?P<name>)`：像一个仅由name表示而不是数字ID标识的正则分组匹配\n",
    "4. `(?P=name)`：在同一个字符串中匹配由(?P=name)分组的之前文本\n",
    "5. `(?#...)`：表示注释，所有内容都被忽略\n",
    "6. `(?=...)`：匹配条件是如果...出现在之后的位置，而不是用输入字符串：称作正向前视断言\n",
    "7. `(?!...)`：匹配条件是如果...不出现在之后的位置，而不是用输入字符串：称作负向前视断言\n",
    "8. `(?<=...)`：匹配条件是如果...出现在之前的位置，而不是用输入字符串：称作正向后视断言\n",
    "9. `(?<!...)`：匹配条件是如果...不出现在之后的位置，而不是用输入字符串：称作负向前视断言\n",
    "10. `(?(id/name)Y|N)`：如果分组所提供的id或者name（名称）存在，就返回正则表达式的条件匹配Y，如果不存在，就返回N：|N是可选项"
   ]
  },
  {
   "cell_type": "markdown",
   "metadata": {},
   "source": [
    "### 1.1.4 使用择一匹配符号匹配多个正则表达式模式\n",
    "表示择一匹配的管道符号（`|`）,也就是键盘上的竖线"
   ]
  },
  {
   "cell_type": "code",
   "execution_count": 19,
   "metadata": {},
   "outputs": [
    {
     "name": "stdout",
     "output_type": "stream",
     "text": [
      "['at']\n",
      "['home']\n",
      "['at', 'home']\n"
     ]
    }
   ],
   "source": [
    "# 择一匹配符号示例\n",
    "import re\n",
    "re_str = 'at|home'\n",
    "pattern = re.compile(re_str)\n",
    "s = ['at', 'home', 'athome']\n",
    "for i in s:\n",
    "    d = re.findall(pattern, i)\n",
    "    print(d)"
   ]
  },
  {
   "cell_type": "markdown",
   "metadata": {},
   "source": [
    "### 1.1.5 匹配任意单个字符\n",
    "点号或者句点（`.`）符号匹配除了换行符`\\n`以外的任何字符（Python正则表达式有一个编译标记`[S或者DOTALL]`）,该标记能够推翻这个限制，使点号能够匹配换行符）"
   ]
  },
  {
   "cell_type": "code",
   "execution_count": 20,
   "metadata": {},
   "outputs": [
    {
     "name": "stdout",
     "output_type": "stream",
     "text": [
      "['foo']\n",
      "['f8o']\n",
      "['f#o']\n",
      "[]\n"
     ]
    }
   ],
   "source": [
    "# 点号匹配符示例\n",
    "import re\n",
    "re_str = 'f.o'\n",
    "pattern = re.compile(re_str)\n",
    "s = ['foo', 'f8o', 'f#o', 'fxxo']\n",
    "# fxxo 由于间隔两个字符，因此匹配不上\n",
    "for i in s:\n",
    "    d = re.findall(pattern, i)\n",
    "    print(d)"
   ]
  },
  {
   "cell_type": "markdown",
   "metadata": {},
   "source": [
    "### 1.1.6 从字符串起始或者结尾或者单词边界匹配\n",
    "1. 脱字符`^` 或者 `\\A` ：起始位置\n",
    "2. 美元符号`$` 或者 `\\Z` : 末尾位置"
   ]
  },
  {
   "cell_type": "code",
   "execution_count": 21,
   "metadata": {},
   "outputs": [
    {
     "name": "stdout",
     "output_type": "stream",
     "text": [
      "['From']\n",
      "['From']\n",
      "[]\n"
     ]
    }
   ],
   "source": [
    "# 1. 起始位置示例\n",
    "import re\n",
    "re_str = '^From'\n",
    "pattern = re.compile(re_str)\n",
    "s = ['From China', 'From USA', 'I am From Zhuhai']\n",
    "for i in s:\n",
    "    d = re.findall(pattern, i)\n",
    "    print(d)"
   ]
  },
  {
   "cell_type": "code",
   "execution_count": 22,
   "metadata": {},
   "outputs": [
    {
     "name": "stdout",
     "output_type": "stream",
     "text": [
      "['/bin/tcsh']\n",
      "['/bin/tcsh']\n",
      "[]\n"
     ]
    }
   ],
   "source": [
    "# 2. 末尾位置示例\n",
    "import re\n",
    "re_str = '/bin/tcsh$'\n",
    "pattern = re.compile(re_str)\n",
    "s = ['/usr/bin/tcsh', '/bin/tcsh', '/usr/bin/tcsh/src']\n",
    "for i in s:\n",
    "    d = re.findall(pattern, i)\n",
    "    print(d)"
   ]
  },
  {
   "cell_type": "markdown",
   "metadata": {},
   "source": [
    "### 1.1.7 创建字符集\n",
    "方括号`[...]`指定字符匹配"
   ]
  },
  {
   "cell_type": "code",
   "execution_count": 23,
   "metadata": {},
   "outputs": [
    {
     "name": "stdout",
     "output_type": "stream",
     "text": [
      "['abe']\n",
      "['ace']\n",
      "['ade']\n",
      "[]\n"
     ]
    }
   ],
   "source": [
    "# 字符集示例\n",
    "import re\n",
    "re_str = 'a[bcd]e'\n",
    "pattern = re.compile(re_str)\n",
    "s = ['abe', 'ace', 'ade', 'aae']\n",
    "for i in s:\n",
    "    d = re.findall(pattern, i)\n",
    "    print(d)"
   ]
  },
  {
   "cell_type": "markdown",
   "metadata": {},
   "source": [
    "### 1.1.8 限定范围和否定\n",
    "1. 连字符(`-`)：方括号内使用连字符连接表示指定字符范围\n",
    "2. 脱字符(`^`)：方括号内使用脱字符标识否定，不匹配给定字符集中的任何一个字符"
   ]
  },
  {
   "cell_type": "code",
   "execution_count": 24,
   "metadata": {},
   "outputs": [
    {
     "name": "stdout",
     "output_type": "stream",
     "text": [
      "['abe']\n",
      "['ace']\n",
      "['ade']\n",
      "[]\n"
     ]
    }
   ],
   "source": [
    "# 1.限定范围示例\n",
    "import re\n",
    "re_str = 'a[b-d]e'\n",
    "pattern = re.compile(re_str)\n",
    "s = ['abe', 'ace', 'ade', 'aae']\n",
    "for i in s:\n",
    "    d = re.findall(pattern, i)\n",
    "    print(d)"
   ]
  },
  {
   "cell_type": "code",
   "execution_count": 25,
   "metadata": {},
   "outputs": [
    {
     "name": "stdout",
     "output_type": "stream",
     "text": [
      "[]\n",
      "[]\n",
      "[]\n",
      "['aae']\n"
     ]
    }
   ],
   "source": [
    "# 1.限定范围示例\n",
    "import re\n",
    "re_str = 'a[^b-d]e'\n",
    "pattern = re.compile(re_str)\n",
    "s = ['abe', 'ace', 'ade', 'aae']\n",
    "for i in s:\n",
    "    d = re.findall(pattern, i)\n",
    "    print(d)"
   ]
  },
  {
   "cell_type": "markdown",
   "metadata": {},
   "source": [
    "### 1.1.9 使用闭包操作符实现存在性和频数匹配\n",
    "1. `?`：0次或者1次前面出现的正则表达式\n",
    "2. `*`：0次或者多次前面出现的正则表达式\n",
    "3. `+`：1次或者多次前面出现的正则表达式\n",
    "4. `{N}`：N次前面出现的正则表达式\n",
    "5. `{M,N}`：M~N次前面出现的正则表达式"
   ]
  },
  {
   "cell_type": "code",
   "execution_count": 26,
   "metadata": {},
   "outputs": [
    {
     "name": "stdout",
     "output_type": "stream",
     "text": [
      "['abe']\n",
      "['ace']\n",
      "['ade']\n",
      "['ae']\n"
     ]
    }
   ],
   "source": [
    "# 1. ?问号（0-1次）匹配示例\n",
    "import re\n",
    "re_str = 'a[b-d]?e'\n",
    "pattern = re.compile(re_str)\n",
    "s = ['abe', 'ace', 'ade', 'aae']\n",
    "for i in s:\n",
    "    d = re.findall(pattern, i)\n",
    "    print(d)"
   ]
  },
  {
   "cell_type": "code",
   "execution_count": 27,
   "metadata": {},
   "outputs": [
    {
     "name": "stdout",
     "output_type": "stream",
     "text": [
      "['abe']\n",
      "['ace']\n",
      "['ade']\n",
      "['ae']\n"
     ]
    }
   ],
   "source": [
    "# 2. *星号（0-n次）匹配示例\n",
    "import re\n",
    "re_str = 'a[b-d]*e'\n",
    "pattern = re.compile(re_str)\n",
    "s = ['abe', 'ace', 'ade', 'aae']\n",
    "for i in s:\n",
    "    d = re.findall(pattern, i)\n",
    "    print(d)"
   ]
  },
  {
   "cell_type": "code",
   "execution_count": 28,
   "metadata": {},
   "outputs": [
    {
     "name": "stdout",
     "output_type": "stream",
     "text": [
      "['abe']\n",
      "['ace']\n",
      "['ade']\n",
      "[]\n"
     ]
    }
   ],
   "source": [
    "# 3. +加号（1-n次）匹配示例\n",
    "import re\n",
    "re_str = 'a[b-d]+e'\n",
    "pattern = re.compile(re_str)\n",
    "s = ['abe', 'ace', 'ade', 'aae']\n",
    "for i in s:\n",
    "    d = re.findall(pattern, i)\n",
    "    print(d)"
   ]
  },
  {
   "cell_type": "code",
   "execution_count": 29,
   "metadata": {},
   "outputs": [
    {
     "name": "stdout",
     "output_type": "stream",
     "text": [
      "['abe']\n",
      "['ace']\n",
      "['ade']\n",
      "[]\n"
     ]
    }
   ],
   "source": [
    "# 4. {N}花括号（N次）匹配示例\n",
    "import re\n",
    "re_str = 'a[b-d]{1}e'\n",
    "pattern = re.compile(re_str)\n",
    "s = ['abe', 'ace', 'ade', 'aae']\n",
    "for i in s:\n",
    "    d = re.findall(pattern, i)\n",
    "    print(d)"
   ]
  },
  {
   "cell_type": "code",
   "execution_count": 30,
   "metadata": {},
   "outputs": [
    {
     "name": "stdout",
     "output_type": "stream",
     "text": [
      "['abe']\n",
      "['ace']\n",
      "['ade']\n",
      "[]\n"
     ]
    }
   ],
   "source": [
    "# 5. {}花括号（M-N次）匹配示例\n",
    "import re\n",
    "re_str = 'a[b-d]{1,3}e'\n",
    "pattern = re.compile(re_str)\n",
    "s = ['abe', 'ace', 'ade', 'aae']\n",
    "for i in s:\n",
    "    d = re.findall(pattern, i)\n",
    "    print(d)"
   ]
  },
  {
   "cell_type": "markdown",
   "metadata": {},
   "source": [
    "### 1.1.10 表示字符集的特殊字符\n",
    "1. `\\d`：表示十进制数字，`\\D`相反\n",
    "2. `\\w`：表示字母数字下划线，`\\W`相反"
   ]
  },
  {
   "cell_type": "code",
   "execution_count": 31,
   "metadata": {},
   "outputs": [
    {
     "name": "stdout",
     "output_type": "stream",
     "text": [
      "[]\n",
      "['a1e']\n",
      "['a2e']\n",
      "[]\n"
     ]
    }
   ],
   "source": [
    "# 1. 十进制数字匹配示例\n",
    "import re\n",
    "re_str = 'a\\de'\n",
    "pattern = re.compile(re_str)\n",
    "s = ['abe', 'a1e', 'a2e', 'aae']\n",
    "for i in s:\n",
    "    d = re.findall(pattern, i)\n",
    "    print(d)"
   ]
  },
  {
   "cell_type": "code",
   "execution_count": 32,
   "metadata": {},
   "outputs": [
    {
     "name": "stdout",
     "output_type": "stream",
     "text": [
      "['abe']\n",
      "['a1e']\n",
      "['a2e']\n",
      "['aae']\n"
     ]
    }
   ],
   "source": [
    "# 2. \\w匹配示例\n",
    "import re\n",
    "re_str = 'a\\we'\n",
    "pattern = re.compile(re_str)\n",
    "s = ['abe', 'a1e', 'a2e', 'aae']\n",
    "for i in s:\n",
    "    d = re.findall(pattern, i)\n",
    "    print(d)"
   ]
  },
  {
   "cell_type": "code",
   "execution_count": 33,
   "metadata": {},
   "outputs": [
    {
     "name": "stdout",
     "output_type": "stream",
     "text": [
      "['abe']\n",
      "[]\n",
      "[]\n",
      "['aae']\n"
     ]
    }
   ],
   "source": [
    "# 3. \\D匹配示例\n",
    "import re\n",
    "re_str = 'a\\De'\n",
    "pattern = re.compile(re_str)\n",
    "s = ['abe', 'a1e', 'a2e', 'aae']\n",
    "for i in s:\n",
    "    d = re.findall(pattern, i)\n",
    "    print(d)"
   ]
  },
  {
   "cell_type": "markdown",
   "metadata": {},
   "source": [
    "### 1.1.11 使用圆括号指定分组\n",
    "圆括号`(...)`：\n",
    "1. 对正则表达式进行分组\n",
    "2. 匹配子组"
   ]
  },
  {
   "cell_type": "code",
   "execution_count": 34,
   "metadata": {},
   "outputs": [
    {
     "name": "stdout",
     "output_type": "stream",
     "text": [
      "['.321']\n",
      "['']\n",
      "['.555']\n",
      "['']\n"
     ]
    }
   ],
   "source": [
    "# 指定分组示例\n",
    "import re\n",
    "re_str = '\\d+(\\.\\d*)?'\n",
    "pattern = re.compile(re_str)\n",
    "s = ['0.321', '123', '24124.555', '.5123']\n",
    "for i in s:\n",
    "    d = re.findall(pattern, i)\n",
    "    print(d)"
   ]
  },
  {
   "cell_type": "markdown",
   "metadata": {},
   "source": [
    "### 1.1.12 扩展表示法\n",
    "格式：`(?...)`:通常用于判断匹配之前提供标记，实现一个前视（或者后视）匹配，或者条件检查\n",
    "\n",
    "注意：尽管用了圆括号`()`，但是只有`(?P<name>)`标书一个分组匹配，其他的都没有创建分组。"
   ]
  },
  {
   "cell_type": "code",
   "execution_count": 35,
   "metadata": {},
   "outputs": [
    {
     "name": "stdout",
     "output_type": "stream",
     "text": [
      "['goole.', '']\n",
      "['twitter.', '']\n",
      "['facebook.', '']\n",
      "['321.', '', '', '', '', '']\n"
     ]
    }
   ],
   "source": [
    "# 扩展示例\n",
    "import re\n",
    "# 以据点作为结尾的字符串\n",
    "re_str = '(?:\\w+\\.)*'\n",
    "pattern = re.compile(re_str)\n",
    "s = ['goole.', 'twitter.', 'facebook.', '321.1213']\n",
    "for i in s:\n",
    "    d = re.findall(pattern, i)\n",
    "    print(d)"
   ]
  },
  {
   "cell_type": "code",
   "execution_count": 36,
   "metadata": {},
   "outputs": [
    {
     "name": "stdout",
     "output_type": "stream",
     "text": [
      "[]\n",
      "['baidu']\n",
      "['163']\n",
      "['163']\n"
     ]
    }
   ],
   "source": [
    "# (?=...)示例\n",
    "import re\n",
    "# 如果一个字符串后面跟着 `.com` 才做匹配操作，并不使用任何目标字符串\n",
    "re_str = 'baidu|163(?=.com)'\n",
    "pattern = re.compile(re_str)\n",
    "s = ['abc.com', 'baidu.com', '163.com', '163.com/index']\n",
    "for i in s:\n",
    "    d = re.findall(pattern, i)\n",
    "    print(d)"
   ]
  }
 ],
 "metadata": {
  "kernelspec": {
   "display_name": "Python 3",
   "language": "python",
   "name": "python3"
  },
  "language_info": {
   "codemirror_mode": {
    "name": "ipython",
    "version": 3
   },
   "file_extension": ".py",
   "mimetype": "text/x-python",
   "name": "python",
   "nbconvert_exporter": "python",
   "pygments_lexer": "ipython3",
   "version": "3.6.2"
  }
 },
 "nbformat": 4,
 "nbformat_minor": 2
}
